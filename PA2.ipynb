{
 "cells": [
  {
   "cell_type": "markdown",
   "id": "c8432b6a-7921-4155-be4f-155c4284439a",
   "metadata": {},
   "source": [
    "# Programming Assignment 2"
   ]
  },
  {
   "cell_type": "code",
   "execution_count": 4,
   "id": "bdfa8050-2c61-4647-a9aa-3764beaaa9a8",
   "metadata": {},
   "outputs": [],
   "source": [
    "import numpy as np"
   ]
  },
  {
   "cell_type": "markdown",
   "id": "202d3504-ab69-4d45-a3c5-58c196296d39",
   "metadata": {},
   "source": [
    "### 1. NORMALIZATION Problem"
   ]
  },
  {
   "cell_type": "markdown",
   "id": "3d78dd75-4b0f-4758-972b-104d275129b5",
   "metadata": {},
   "source": [
    "Create a random 5 x 5 ndarray and store it to variable X. Normalize X. Save your normalized ndarray as X_normalized.npy"
   ]
  },
  {
   "cell_type": "markdown",
   "id": "f2e06ed6-3f44-4612-96f1-fe8b9abc3408",
   "metadata": {},
   "source": [
    "#### Version 1: Established Array"
   ]
  },
  {
   "cell_type": "code",
   "execution_count": 6,
   "id": "54ac5015-be57-4908-b7de-5b40f2a19fb8",
   "metadata": {},
   "outputs": [
    {
     "name": "stdout",
     "output_type": "stream",
     "text": [
      "X = [[ 9 50 36 27 38]\n",
      " [20 30  1  3 10]\n",
      " [39 49 46 31  9]\n",
      " [ 1 43 41 18 26]\n",
      " [35 41 24 19 19]]\n",
      "X_normalized = [[-1.17742216  1.56543629  0.62885047  0.02675959  0.76264845]\n",
      " [-0.44153331  0.22745655 -1.71261406 -1.57881608 -1.11052318]\n",
      " [ 0.82954743  1.4985373   1.29784034  0.29435554 -1.17742216]\n",
      " [-1.71261406  1.09714338  0.96334541 -0.57533128 -0.04013939]\n",
      " [ 0.56195149  0.96334541 -0.17393737 -0.5084323  -0.5084323 ]]\n"
     ]
    }
   ],
   "source": [
    "X = np.array([(9,50,36,27,38),(20,30,1,3,10),(39,49,46,31,9),(1,43,41,18,26),(35,41,24,19,19)])\n",
    "\n",
    "Xmean = X.mean()\n",
    "Xstd = X.std()\n",
    "\n",
    "X_normalized = (X - Xmean) / Xstd\n",
    "\n",
    "print(\"X =\", X)\n",
    "print(\"X_normalized =\", X_normalized)"
   ]
  },
  {
   "cell_type": "markdown",
   "id": "6de47aeb-4eab-467a-8a19-f2e54295eede",
   "metadata": {},
   "source": [
    "#### Version 2: Random Array Per Entry"
   ]
  },
  {
   "cell_type": "code",
   "execution_count": 8,
   "id": "86f1dafe-e786-453f-a155-84150e56cd5b",
   "metadata": {},
   "outputs": [
    {
     "name": "stdout",
     "output_type": "stream",
     "text": [
      "X :\n",
      " [[45  4 61 96 16]\n",
      " [84 26 78 89 52]\n",
      " [ 0 38 38  6 39]\n",
      " [35  9 66 40  9]\n",
      " [ 5  5 49 59 77]]\n",
      "\n",
      "X_normalized:\n",
      " [[ 46.24465815   4.08418728  63.47907808 100.          16.22486075]\n",
      " [ 86.97660748  26.27825032  80.99567676  91.88842688  53.91240751]\n",
      " [  0.          39.43484756  38.93260969   5.57621192  39.84894474]\n",
      " [ 35.86916648   8.60265398  68.56536787  41.46316957   8.84739876]\n",
      " [  5.09763219   4.82187037  51.0679669   60.77599637  79.46079873]]\n"
     ]
    }
   ],
   "source": [
    "X = np.random.rand(5, 5)\n",
    "\n",
    "X_int = (X * 100).astype(int)\n",
    "\n",
    "X_normalized = ((X - np.min(X)) / (np.max(X) - np.min(X)) * 100)\n",
    "\n",
    "print(\"X :\\n\", X_int)\n",
    "print(\"\\nX_normalized:\\n\", X_normalized)"
   ]
  },
  {
   "cell_type": "markdown",
   "id": "881bb4d1-4742-4f52-98b2-48fc92e20d67",
   "metadata": {},
   "source": [
    "#### Version 3: Random Entry Per Entry with (User-Input) Range"
   ]
  },
  {
   "cell_type": "code",
   "execution_count": 13,
   "id": "aa6b6e11-fb93-4786-8de9-4db153e4af54",
   "metadata": {},
   "outputs": [
    {
     "name": "stdin",
     "output_type": "stream",
     "text": [
      "Numbers can't go lower than:  10\n",
      "Numbers can't go higher than:  50\n"
     ]
    },
    {
     "name": "stdout",
     "output_type": "stream",
     "text": [
      "\n",
      "X:\n",
      " [[16 14 30 35 13]\n",
      " [12 17 42 11 16]\n",
      " [44 50 43 19 18]\n",
      " [33 39 42 11 21]\n",
      " [48 26 48 16 47]]\n",
      "\n",
      "X_normalized:\n",
      " [[0.12820513 0.07692308 0.48717949 0.61538462 0.05128205]\n",
      " [0.02564103 0.15384615 0.79487179 0.         0.12820513]\n",
      " [0.84615385 1.         0.82051282 0.20512821 0.17948718]\n",
      " [0.56410256 0.71794872 0.79487179 0.         0.25641026]\n",
      " [0.94871795 0.38461538 0.94871795 0.12820513 0.92307692]]\n"
     ]
    }
   ],
   "source": [
    "low = int(input(\"Numbers can't go lower than: \"))\n",
    "high = int(input(\"Numbers can't go higher than: \"))\n",
    "\n",
    "X = np.random.randint(low, high + 1, (5, 5))\n",
    "\n",
    "X_normalized = (X - np.min(X)) / (np.max(X) - np.min(X))\n",
    "\n",
    "print(\"\\nX:\\n\", X)\n",
    "print(\"\\nX_normalized:\\n\", X_normalized)"
   ]
  },
  {
   "cell_type": "markdown",
   "id": "f5fcf7b1-6362-492c-94e2-6bb1a8f674fc",
   "metadata": {},
   "source": [
    "### 2. DIVISIBLE BY 3 Problem"
   ]
  },
  {
   "cell_type": "markdown",
   "id": "d9b14f80-e2a8-4e20-a319-664eb3933357",
   "metadata": {},
   "source": [
    "Create the following 10 x 10 ndarray, which are the squares of the first 100 positive integers. From this ndarray, determine all the elements that are divisible by 3. Save the result as div_by_3.npy"
   ]
  },
  {
   "cell_type": "code",
   "execution_count": 12,
   "id": "01cc09e1-7e70-4f80-a556-5ad60d673318",
   "metadata": {},
   "outputs": [
    {
     "name": "stdout",
     "output_type": "stream",
     "text": [
      "[   9   36   81  144  225  324  441  576  729  900 1089 1296 1521 1764\n",
      " 2025 2304 2601 2916 3249 3600 3969 4356 4761 5184 5625 6084 6561 7056\n",
      " 7569 8100 8649 9216 9801]\n"
     ]
    }
   ],
   "source": [
    "numbers = np.arange(1, 101)\n",
    "squares = numbers ** 2\n",
    "\n",
    "A = squares.reshape(10, 10)\n",
    "\n",
    "div_by_3 = A[A % 3 == 0]\n",
    "\n",
    "print(div_by_3)"
   ]
  },
  {
   "cell_type": "markdown",
   "id": "a62d0355-5d4b-439c-be64-b5ad7b82d994",
   "metadata": {},
   "source": [
    "##### CODED BY: AFIDCHAO, DANIELLE TAYLAN OF 2ECE-A"
   ]
  },
  {
   "cell_type": "markdown",
   "id": "5a554cd1-f172-4087-a7aa-3e273a062452",
   "metadata": {},
   "source": [
    "##### SUBMITTED TO: MDM. MA MADECHEEN PANGALIMAN"
   ]
  },
  {
   "cell_type": "code",
   "execution_count": null,
   "id": "1007e07a-1285-4b3d-8a8c-98ecea2f54b6",
   "metadata": {},
   "outputs": [],
   "source": []
  }
 ],
 "metadata": {
  "kernelspec": {
   "display_name": "Python 3 (ipykernel)",
   "language": "python",
   "name": "python3"
  },
  "language_info": {
   "codemirror_mode": {
    "name": "ipython",
    "version": 3
   },
   "file_extension": ".py",
   "mimetype": "text/x-python",
   "name": "python",
   "nbconvert_exporter": "python",
   "pygments_lexer": "ipython3",
   "version": "3.12.4"
  }
 },
 "nbformat": 4,
 "nbformat_minor": 5
}
