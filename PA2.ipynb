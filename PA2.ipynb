{
 "cells": [
  {
   "cell_type": "markdown",
   "id": "c8432b6a-7921-4155-be4f-155c4284439a",
   "metadata": {},
   "source": [
    "# Programming Assignment 2"
   ]
  },
  {
   "cell_type": "code",
   "execution_count": 6,
   "id": "bdfa8050-2c61-4647-a9aa-3764beaaa9a8",
   "metadata": {},
   "outputs": [],
   "source": [
    "import numpy as np"
   ]
  },
  {
   "cell_type": "markdown",
   "id": "202d3504-ab69-4d45-a3c5-58c196296d39",
   "metadata": {},
   "source": [
    "### 1. NORMALIZATION Problem"
   ]
  },
  {
   "cell_type": "markdown",
   "id": "3d78dd75-4b0f-4758-972b-104d275129b5",
   "metadata": {},
   "source": [
    "Create a random 5 x 5 ndarray and store it to variable X. Normalize X. Save your normalized ndarray as X_normalized.npy"
   ]
  },
  {
   "cell_type": "code",
   "execution_count": 22,
   "id": "54ac5015-be57-4908-b7de-5b40f2a19fb8",
   "metadata": {},
   "outputs": [
    {
     "name": "stdout",
     "output_type": "stream",
     "text": [
      "X = [[ 9 50 36 27 38]\n",
      " [20 30  1  3 10]\n",
      " [39 49 46 31  9]\n",
      " [ 1 43 41 18 26]\n",
      " [35 41 24 19 19]]\n",
      "X_normalized = [[-1.17742216  1.56543629  0.62885047  0.02675959  0.76264845]\n",
      " [-0.44153331  0.22745655 -1.71261406 -1.57881608 -1.11052318]\n",
      " [ 0.82954743  1.4985373   1.29784034  0.29435554 -1.17742216]\n",
      " [-1.71261406  1.09714338  0.96334541 -0.57533128 -0.04013939]\n",
      " [ 0.56195149  0.96334541 -0.17393737 -0.5084323  -0.5084323 ]]\n"
     ]
    }
   ],
   "source": [
    "X = np.array([(9,50,36,27,38),(20,30,1,3,10),(39,49,46,31,9),(1,43,41,18,26),(35,41,24,19,19)])\n",
    "\n",
    "Xmean = X.mean()\n",
    "Xstd = X.std()\n",
    "\n",
    "X_normalized = (X - Xmean) / Xstd\n",
    "\n",
    "print(\"X =\", X)\n",
    "print(\"X_normalized =\", X_normalized)"
   ]
  },
  {
   "cell_type": "markdown",
   "id": "f5fcf7b1-6362-492c-94e2-6bb1a8f674fc",
   "metadata": {},
   "source": [
    "### 2. DIVISIBLE BY 3 Problem"
   ]
  },
  {
   "cell_type": "markdown",
   "id": "d9b14f80-e2a8-4e20-a319-664eb3933357",
   "metadata": {},
   "source": [
    "Create the following 10 x 10 ndarray, which are the squares of the first 100 positive integers. From this ndarray, determine all the elements that are divisible by 3. Save the result as div_by_3.npy"
   ]
  },
  {
   "cell_type": "code",
   "execution_count": 12,
   "id": "01cc09e1-7e70-4f80-a556-5ad60d673318",
   "metadata": {},
   "outputs": [
    {
     "name": "stdout",
     "output_type": "stream",
     "text": [
      "[   9   36   81  144  225  324  441  576  729  900 1089 1296 1521 1764\n",
      " 2025 2304 2601 2916 3249 3600 3969 4356 4761 5184 5625 6084 6561 7056\n",
      " 7569 8100 8649 9216 9801]\n"
     ]
    }
   ],
   "source": [
    "numbers = np.arange(1, 101)\n",
    "squares = numbers ** 2\n",
    "\n",
    "A = squares.reshape(10, 10)\n",
    "\n",
    "div_by_3 = A[A % 3 == 0]\n",
    "\n",
    "print(div_by_3)"
   ]
  },
  {
   "cell_type": "markdown",
   "id": "a62d0355-5d4b-439c-be64-b5ad7b82d994",
   "metadata": {},
   "source": [
    "##### CODED BY: AFIDCHAO, DANIELLE TAYLAN OF 2ECE-A"
   ]
  },
  {
   "cell_type": "markdown",
   "id": "5a554cd1-f172-4087-a7aa-3e273a062452",
   "metadata": {},
   "source": [
    "##### SUBMITTED TO: MDM. MA MADECHEEN PANGALIMAN"
   ]
  },
  {
   "cell_type": "code",
   "execution_count": null,
   "id": "1007e07a-1285-4b3d-8a8c-98ecea2f54b6",
   "metadata": {},
   "outputs": [],
   "source": []
  }
 ],
 "metadata": {
  "kernelspec": {
   "display_name": "Python 3 (ipykernel)",
   "language": "python",
   "name": "python3"
  },
  "language_info": {
   "codemirror_mode": {
    "name": "ipython",
    "version": 3
   },
   "file_extension": ".py",
   "mimetype": "text/x-python",
   "name": "python",
   "nbconvert_exporter": "python",
   "pygments_lexer": "ipython3",
   "version": "3.12.4"
  }
 },
 "nbformat": 4,
 "nbformat_minor": 5
}
