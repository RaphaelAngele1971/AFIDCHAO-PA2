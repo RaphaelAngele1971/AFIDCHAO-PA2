{
 "cells": [
  {
   "cell_type": "markdown",
   "id": "8e2d4734-e038-4a9b-8a06-8a15cdd45278",
   "metadata": {},
   "source": [
    "# Programming Assignment 2.1"
   ]
  },
  {
   "cell_type": "markdown",
   "id": "5e7fe9b4-6c56-4715-885c-d08d1081a21a",
   "metadata": {},
   "source": [
    "### The Normalization Problem"
   ]
  },
  {
   "cell_type": "markdown",
   "id": "b830b619-ce42-4503-895b-1473af7c338e",
   "metadata": {},
   "source": [
    "Create a random 5 x 5 ndarray and store it to variable X. Normalize X. Save your normalized ndarray as X_normalized.npy"
   ]
  },
  {
   "cell_type": "code",
   "execution_count": 4,
   "id": "13be5177-44c0-487e-930d-3b2188037c25",
   "metadata": {},
   "outputs": [],
   "source": [
    "import numpy as np"
   ]
  },
  {
   "cell_type": "markdown",
   "id": "09d19116-9dc0-4f9e-9051-1260b1905ffb",
   "metadata": {},
   "source": [
    "#### Version 1: Established Array"
   ]
  },
  {
   "cell_type": "code",
   "execution_count": 7,
   "id": "3c918510-5f1d-485d-bca4-9e3c93859522",
   "metadata": {},
   "outputs": [
    {
     "name": "stdout",
     "output_type": "stream",
     "text": [
      "X =\n",
      " [[ 9 50 36 27 38]\n",
      " [20 30  1  3 10]\n",
      " [39 49 46 31  9]\n",
      " [ 1 43 41 18 26]\n",
      " [35 41 24 19 19]]\n",
      "X_normalized =\n",
      " [[-1.17742216  1.56543629  0.62885047  0.02675959  0.76264845]\n",
      " [-0.44153331  0.22745655 -1.71261406 -1.57881608 -1.11052318]\n",
      " [ 0.82954743  1.4985373   1.29784034  0.29435554 -1.17742216]\n",
      " [-1.71261406  1.09714338  0.96334541 -0.57533128 -0.04013939]\n",
      " [ 0.56195149  0.96334541 -0.17393737 -0.5084323  -0.5084323 ]]\n"
     ]
    }
   ],
   "source": [
    "X = np.array([(9,50,36,27,38),(20,30,1,3,10),(39,49,46,31,9),(1,43,41,18,26),(35,41,24,19,19)])\n",
    "\n",
    "Xmean = X.mean()\n",
    "Xstd = X.std()\n",
    "\n",
    "X_normalized = (X - Xmean) / Xstd\n",
    "\n",
    "print(\"X =\\n\", X)\n",
    "print(\"X_normalized =\\n\", X_normalized)"
   ]
  },
  {
   "cell_type": "markdown",
   "id": "0743f7c7-fa50-47cb-b70e-ac59fb843974",
   "metadata": {},
   "source": [
    "#### Version 2: Random Array Input at Every Entry"
   ]
  },
  {
   "cell_type": "code",
   "execution_count": 10,
   "id": "01e283cb-4d77-44dc-b4a0-1ef53140314d",
   "metadata": {},
   "outputs": [
    {
     "name": "stdout",
     "output_type": "stream",
     "text": [
      "X :\n",
      " [[76 72 20 93 68]\n",
      " [32 16 87  2 82]\n",
      " [39 13 95 34 15]\n",
      " [52 32 95 65 26]\n",
      " [50 67 86 35 70]]\n",
      "\n",
      "X_normalized:\n",
      " [[ 78.96513073  75.15663365  19.53141732  98.03614791  71.27360841]\n",
      " [ 32.64522506  15.04199597  90.96163651   0.          85.68163971]\n",
      " [ 39.91979228  12.37259739 100.          34.1454083   14.33572302]\n",
      " [ 54.27488899  32.97758858  99.40446731  68.15913904  25.63252785]\n",
      " [ 51.50442182  69.57998946  90.27386121  35.65130662  72.72810676]]\n"
     ]
    }
   ],
   "source": [
    "X = np.random.rand(5, 5)\n",
    "\n",
    "X_int = (X * 100).astype(int)\n",
    "\n",
    "X_normalized = ((X - np.min(X)) / (np.max(X) - np.min(X)) * 100)\n",
    "\n",
    "print(\"X :\\n\", X_int)\n",
    "print(\"\\nX_normalized:\\n\", X_normalized)"
   ]
  },
  {
   "cell_type": "markdown",
   "id": "1560be9b-8d64-4670-8d30-216c311c86fd",
   "metadata": {},
   "source": [
    "#### Version 3: Random Array Input at Every Entry with (User Input) Range"
   ]
  },
  {
   "cell_type": "code",
   "execution_count": 13,
   "id": "afa922fd-f394-4ebd-af88-8dbaf604732c",
   "metadata": {},
   "outputs": [
    {
     "name": "stdin",
     "output_type": "stream",
     "text": [
      "Numbers can't go lower than:  10\n",
      "Numbers can't go higher than:  50\n"
     ]
    },
    {
     "name": "stdout",
     "output_type": "stream",
     "text": [
      "\n",
      "X:\n",
      " [[21 44 35 34 12]\n",
      " [18 40 10 33 41]\n",
      " [21 49 44 30 33]\n",
      " [41 28 28 43 48]\n",
      " [28 16 13 26 49]]\n",
      "\n",
      "X_normalized:\n",
      " [[0.28205128 0.87179487 0.64102564 0.61538462 0.05128205]\n",
      " [0.20512821 0.76923077 0.         0.58974359 0.79487179]\n",
      " [0.28205128 1.         0.87179487 0.51282051 0.58974359]\n",
      " [0.79487179 0.46153846 0.46153846 0.84615385 0.97435897]\n",
      " [0.46153846 0.15384615 0.07692308 0.41025641 1.        ]]\n"
     ]
    }
   ],
   "source": [
    "low = int(input(\"Numbers can't go lower than: \"))\n",
    "high = int(input(\"Numbers can't go higher than: \"))\n",
    "\n",
    "X = np.random.randint(low, high + 1, (5, 5))\n",
    "\n",
    "X_normalized = (X - np.min(X)) / (np.max(X) - np.min(X))\n",
    "\n",
    "print(\"\\nX:\\n\", X)\n",
    "print(\"\\nX_normalized:\\n\", X_normalized)"
   ]
  },
  {
   "cell_type": "code",
   "execution_count": null,
   "id": "aff9ad27-561c-41bf-abad-2d036b58c851",
   "metadata": {},
   "outputs": [],
   "source": []
  }
 ],
 "metadata": {
  "kernelspec": {
   "display_name": "Python 3 (ipykernel)",
   "language": "python",
   "name": "python3"
  },
  "language_info": {
   "codemirror_mode": {
    "name": "ipython",
    "version": 3
   },
   "file_extension": ".py",
   "mimetype": "text/x-python",
   "name": "python",
   "nbconvert_exporter": "python",
   "pygments_lexer": "ipython3",
   "version": "3.12.4"
  }
 },
 "nbformat": 4,
 "nbformat_minor": 5
}
